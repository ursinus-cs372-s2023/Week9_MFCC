{
 "cells": [
  {
   "cell_type": "code",
   "execution_count": null,
   "id": "4f89f88a",
   "metadata": {},
   "outputs": [],
   "source": [
    "%load_ext autoreload\n",
    "%autoreload 2\n",
    "import numpy as np\n",
    "import matplotlib.pyplot as plt\n",
    "import IPython.display as ipd\n",
    "from scipy.io import wavfile\n",
    "from mfcc import *"
   ]
  },
  {
   "cell_type": "code",
   "execution_count": null,
   "id": "dc95dc33",
   "metadata": {},
   "outputs": [],
   "source": [
    "sr, x = wavfile.read(\"doves.wav\")\n",
    "w = 2048\n",
    "h = 512\n",
    "S = stft(x, w, h)\n",
    "S = np.abs(S[0:w//2+1, :]) # Pull out non-redundant frequency bins"
   ]
  },
  {
   "cell_type": "code",
   "execution_count": null,
   "id": "d0cf8955",
   "metadata": {},
   "outputs": [],
   "source": []
  }
 ],
 "metadata": {
  "kernelspec": {
   "display_name": "Python 3 (ipykernel)",
   "language": "python",
   "name": "python3"
  },
  "language_info": {
   "codemirror_mode": {
    "name": "ipython",
    "version": 3
   },
   "file_extension": ".py",
   "mimetype": "text/x-python",
   "name": "python",
   "nbconvert_exporter": "python",
   "pygments_lexer": "ipython3",
   "version": "3.9.13"
  }
 },
 "nbformat": 4,
 "nbformat_minor": 5
}
